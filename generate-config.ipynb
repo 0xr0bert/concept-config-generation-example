{
 "cells": [
  {
   "cell_type": "code",
   "execution_count": null,
   "id": "ddf9b684-2b94-4e1b-96c4-c289f7ad4799",
   "metadata": {},
   "outputs": [],
   "source": [
    "import polars\n",
    "from uuid import uuid4"
   ]
  },
  {
   "cell_type": "markdown",
   "id": "7287ba54-804a-43e0-bb56-da4bc61c3e05",
   "metadata": {},
   "source": [
    "# Generate behaviours"
   ]
  },
  {
   "cell_type": "code",
   "execution_count": null,
   "id": "903363a6-df32-4314-85e8-ec6c6a3b1a72",
   "metadata": {},
   "outputs": [],
   "source": [
    "behaviours_df = polars.DataFrame({\n",
    "    \"name\": [\"Walk\", \"Cycle\", \"PT\", \"Drive\"]\n",
    "})"
   ]
  },
  {
   "cell_type": "markdown",
   "id": "e7ec1826-76b5-4fbf-9ca2-1a76b40e367e",
   "metadata": {},
   "source": [
    "Now generate the UUIDs."
   ]
  },
  {
   "cell_type": "code",
   "execution_count": null,
   "id": "23521bad-1c44-473d-a842-9ab875da132f",
   "metadata": {},
   "outputs": [],
   "source": [
    "behaviours_df = behaviours_df.with_column(polars.Series(\"uuid\", [str(uuid4()) for i in range(len(behaviours_df))]))"
   ]
  },
  {
   "cell_type": "code",
   "execution_count": null,
   "id": "84772552-fcbc-4dfa-92d9-bca41b4312cd",
   "metadata": {},
   "outputs": [],
   "source": [
    "behaviours_df.write_json(\"behaviours.json\", row_oriented=True)"
   ]
  },
  {
   "cell_type": "markdown",
   "id": "e3bb0640-b9ab-4449-9547-68ba5367eb78",
   "metadata": {},
   "source": [
    "# Generate beliefs"
   ]
  },
  {
   "cell_type": "code",
   "execution_count": null,
   "id": "36b87b7d-f9ad-4fcd-a082-97322f29b946",
   "metadata": {},
   "outputs": [],
   "source": [
    "beliefs_df = polars.DataFrame({\n",
    "    \"name\": [\n",
    "        \"I care about the environment\",\n",
    "        \"I want to get to work quickly\",\n",
    "        \"I care about the social importance of the car\",\n",
    "        \"I want to keep fit\",\n",
    "        \"I do not want to perform exercise on my commute\"\n",
    "    ]\n",
    "})"
   ]
  },
  {
   "cell_type": "code",
   "execution_count": null,
   "id": "895a74ee-6f40-4416-8f99-1bdb9149829a",
   "metadata": {},
   "outputs": [],
   "source": [
    "beliefs_df = beliefs_df.with_column(polars.Series(\"uuid\", [str(uuid4()) for i in range(len(beliefs_df))]))"
   ]
  },
  {
   "cell_type": "code",
   "execution_count": null,
   "id": "11596a3f-53d1-483d-a3e3-ce1f9b9dc491",
   "metadata": {},
   "outputs": [],
   "source": [
    "w_uuid = str(behaviours_df[\"name\" == \"Walk\", \"uuid\"])\n",
    "c_uuid = str(behaviours_df[\"name\" == \"Cycle\", \"uuid\"])\n",
    "p_uuid = str(behaviours_df[\"name\" == \"PT\", \"uuid\"])\n",
    "d_uuid = str(behaviours_df[\"name\" == \"Drive\", \"uuid\"])"
   ]
  },
  {
   "cell_type": "code",
   "execution_count": null,
   "id": "3c1f017f-b053-45e7-b057-4e30569ff2a5",
   "metadata": {},
   "outputs": [],
   "source": [
    "perceptions = [\n",
    "    {\n",
    "        w_uuid: 0.6,\n",
    "        c_uuid: 0.7,\n",
    "        p_uuid: 0.4,\n",
    "        d_uuid: -0.9\n",
    "    }, {\n",
    "        w_uuid: -0.5,\n",
    "        c_uuid: 0.0,\n",
    "        p_uuid: -0.1,\n",
    "        d_uuid: 0.4\n",
    "    }, {\n",
    "        w_uuid: 0.0,\n",
    "        c_uuid: 0.0,\n",
    "        p_uuid: -0.3,\n",
    "        d_uuid: 0.8\n",
    "    }, {\n",
    "        w_uuid: 0.2,\n",
    "        c_uuid: 0.7,\n",
    "        p_uuid: 0.0,\n",
    "        d_uuid: 0.0\n",
    "    }, {\n",
    "        w_uuid: -0.2,\n",
    "        c_uuid: -0.7,\n",
    "        p_uuid: 0.1,\n",
    "        d_uuid: 0.2\n",
    "    }\n",
    "]"
   ]
  },
  {
   "cell_type": "code",
   "execution_count": null,
   "id": "efd5b4fe-fbfa-4c42-9ccd-2293e62693eb",
   "metadata": {},
   "outputs": [],
   "source": [
    "beliefs_df.with_column(polars.Series(\"perceptions\", perceptions))"
   ]
  },
  {
   "cell_type": "code",
   "execution_count": null,
   "id": "09e6fcf3-e85f-43a0-8477-48a373482535",
   "metadata": {},
   "outputs": [],
   "source": []
  }
 ],
 "metadata": {
  "kernelspec": {
   "display_name": "Python 3 (ipykernel)",
   "language": "python",
   "name": "python3"
  },
  "language_info": {
   "codemirror_mode": {
    "name": "ipython",
    "version": 3
   },
   "file_extension": ".py",
   "mimetype": "text/x-python",
   "name": "python",
   "nbconvert_exporter": "python",
   "pygments_lexer": "ipython3",
   "version": "3.10.6"
  }
 },
 "nbformat": 4,
 "nbformat_minor": 5
}
