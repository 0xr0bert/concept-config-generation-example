{
 "cells": [
  {
   "cell_type": "code",
   "execution_count": null,
   "id": "ddf9b684-2b94-4e1b-96c4-c289f7ad4799",
   "metadata": {},
   "outputs": [],
   "source": [
    "import polars\n",
    "from uuid import uuid4"
   ]
  },
  {
   "cell_type": "markdown",
   "id": "7287ba54-804a-43e0-bb56-da4bc61c3e05",
   "metadata": {},
   "source": [
    "# Generate behaviours"
   ]
  },
  {
   "cell_type": "code",
   "execution_count": null,
   "id": "903363a6-df32-4314-85e8-ec6c6a3b1a72",
   "metadata": {},
   "outputs": [],
   "source": [
    "behaviours_df = polars.DataFrame({\n",
    "    \"name\": [\"Walk\", \"Cycle\", \"PT\", \"Drive\"]\n",
    "})"
   ]
  },
  {
   "cell_type": "markdown",
   "id": "e7ec1826-76b5-4fbf-9ca2-1a76b40e367e",
   "metadata": {},
   "source": [
    "Now generate the UUIDs."
   ]
  },
  {
   "cell_type": "code",
   "execution_count": null,
   "id": "23521bad-1c44-473d-a842-9ab875da132f",
   "metadata": {},
   "outputs": [],
   "source": [
    "behaviours_df = behaviours_df.with_column(polars.Series(\"uuid\", [str(uuid4()) for i in range(len(behaviours_df))]))"
   ]
  },
  {
   "cell_type": "code",
   "execution_count": null,
   "id": "84772552-fcbc-4dfa-92d9-bca41b4312cd",
   "metadata": {},
   "outputs": [],
   "source": [
    "behaviours_df.write_json(\"behaviours.json\", row_oriented=True)"
   ]
  }
 ],
 "metadata": {
  "kernelspec": {
   "display_name": "Python 3 (ipykernel)",
   "language": "python",
   "name": "python3"
  },
  "language_info": {
   "codemirror_mode": {
    "name": "ipython",
    "version": 3
   },
   "file_extension": ".py",
   "mimetype": "text/x-python",
   "name": "python",
   "nbconvert_exporter": "python",
   "pygments_lexer": "ipython3",
   "version": "3.10.6"
  }
 },
 "nbformat": 4,
 "nbformat_minor": 5
}
