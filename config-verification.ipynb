{
 "cells": [
  {
   "cell_type": "markdown",
   "metadata": {},
   "source": [
    "# Verification\n",
    "The point in this is to see if the config makes sense!"
   ]
  },
  {
   "cell_type": "code",
   "execution_count": 1,
   "metadata": {},
   "outputs": [],
   "source": [
    "import numpy as np\n",
    "import json"
   ]
  },
  {
   "cell_type": "code",
   "execution_count": 4,
   "metadata": {},
   "outputs": [],
   "source": [
    "with open(\"agents.json\", \"r\") as f:\n",
    "    agents = json.load(f)"
   ]
  },
  {
   "cell_type": "code",
   "execution_count": 9,
   "metadata": {},
   "outputs": [
    {
     "data": {
      "text/plain": [
       "(array(['59b954e3-da71-4ad5-91b6-b7a8a55ec84b',\n",
       "        '78cfcc29-09ed-4122-bb7a-2e867bed82bc',\n",
       "        '83908591-344f-4ff6-b018-03138f731a87',\n",
       "        '98548711-2dc8-45f6-9998-c13fab43b6d4'], dtype='<U36'),\n",
       " array([155, 196,  49, 100]))"
      ]
     },
     "execution_count": 9,
     "metadata": {},
     "output_type": "execute_result"
    }
   ],
   "source": [
    "np.unique([a[\"actions\"][\"0\"] for a in agents], return_counts=True)"
   ]
  },
  {
   "cell_type": "markdown",
   "metadata": {},
   "source": [
    "100 Drivers\n",
    "49 Walkers\n",
    "155 Cyclers\n",
    "196 PTs\n",
    "\n",
    "Maybe a bit unbalanced towards cyclists, but it doesn't matter too much here.\n",
    "\n",
    "&#9989; Pass validation for toy model"
   ]
  }
 ],
 "metadata": {
  "kernelspec": {
   "display_name": "Python 3.10.6 ('venv': venv)",
   "language": "python",
   "name": "python3"
  },
  "language_info": {
   "codemirror_mode": {
    "name": "ipython",
    "version": 3
   },
   "file_extension": ".py",
   "mimetype": "text/x-python",
   "name": "python",
   "nbconvert_exporter": "python",
   "pygments_lexer": "ipython3",
   "version": "3.10.6"
  },
  "orig_nbformat": 4,
  "vscode": {
   "interpreter": {
    "hash": "5afe846d4248bcf2ab37e16568097bf9d4ead88a96b7069065ab0dec992c789a"
   }
  }
 },
 "nbformat": 4,
 "nbformat_minor": 2
}
